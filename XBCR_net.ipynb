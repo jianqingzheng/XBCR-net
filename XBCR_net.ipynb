{
  "nbformat": 4,
  "nbformat_minor": 0,
  "metadata": {
    "colab": {
      "provenance": [],
      "authorship_tag": "ABX9TyMjjdSKqwEmhBOdvaaXVl2h"
    },
    "kernelspec": {
      "name": "python3",
      "display_name": "Python 3"
    },
    "language_info": {
      "name": "python"
    }
  },
  "cells": [
    {
      "cell_type": "markdown",
      "source": [
        "<div align=\"center\">\n",
        "<h1> XBCR-net (Cross B-Cell Receptor network) for antibody-antigen binding prediction </h1>\n",
        "\n",
        "[![DOI](https://img.shields.io/badge/DOI-10.1038%2Fs41422--022--00727--6-darkyellow)](https://www.nature.com/articles/s41422-022-00727-6) \\|\n",
        "<a href=\"https://github.com/jianqingzheng/XBCR-net\"><img src=\"https://img.shields.io/github/stars/jianqingzheng/XBCR-net?style=social&label=Code+★\" /></a>\n",
        "\\|\n",
        "[![Explore XBCR-net in Colab](https://colab.research.google.com/assets/colab-badge.svg)](https://colab.research.google.com/github/jianqingzheng/XBCR-net/blob/main/XBCR_net.ipynb)\n",
        "</div>\n",
        "\n",
        "\n",
        "Code for *Cell Research* paper [Deep learning-based rapid generation of broadly reactive antibodies against SARS-CoV-2 and its Omicron variant](https://doi.org/10.1038/s41422-022-00727-6)\n",
        "\n",
        "> This implementation includes the training and inference pipeline of XBCR-net based on tensorflow and Keras. The original implementation of its backbone network ACNN could be found in [ACNN repo](https://github.com/XiaoYunZhou27/ACNN).\n"
      ],
      "metadata": {
        "id": "b6wz3wqFgL7b"
      }
    },
    {
      "cell_type": "markdown",
      "source": [
        "---\n",
        "#### Contents ####\n",
        "- 1. Installation\n",
        "- 2. Usage\n",
        "  - 2.1. Training (optional)\n",
        "  - 2.2a. Inference by entering data\n",
        "  - 2.2b. Batch Inference\n",
        "- 3. Citing this work\n",
        "---"
      ],
      "metadata": {
        "id": "V2D7wQZaIc4K"
      }
    },
    {
      "cell_type": "code",
      "execution_count": null,
      "metadata": {
        "id": "hO4x9NDrfGrm",
        "cellView": "form"
      },
      "outputs": [],
      "source": [
        "#@title 1. Installation {run: \"auto\"}\n",
        "#@markdown Clone code from Github repo: https://github.com/jianqingzheng/XBCR-net.git\n",
        "\n",
        "!git clone https://github.com/jianqingzheng/XBCR-net.git\n",
        "%cd XBCR-net/\n",
        "\n",
        "#@markdown and Install packages\n",
        "\n",
        "#@markdown [![OS](https://img.shields.io/badge/OS-Windows%7CLinux-darkblue)]()\n",
        "#@markdown [![PyPI pyversions](https://img.shields.io/badge/Python-3.8-blue)](https://pypi.python.org/pypi/ansicolortags/)\n",
        "#@markdown [![TensorFlow](https://img.shields.io/badge/TensorFlow-2.4.1-lightblue)](www.tensorflow.org)\n",
        "#@markdown [![Numpy](https://img.shields.io/badge/Numpy-1.19.5-lightblue)](https://numpy.org)\n",
        "#@markdown [![Pandas](https://img.shields.io/badge/Pandas-1.1.0-lightblue)](https://pandas.pydata.org/)\n",
        "\n",
        "#@markdown > Other versions of the packages could also be applicable\n",
        "\n",
        "!pip install tensorflow==2.4.1\n",
        "!pip install numpy==1.19.5\n",
        "!pip install pandas==1.1.0"
      ]
    },
    {
      "cell_type": "markdown",
      "source": [
        "## 2. Usage\n",
        "\n",
        "\\* Setup\n",
        "```\n",
        "[$DOWNLOAD_DIR]/XBCR-net/           \n",
        "├── data/[$data_name]/\n",
        "|   ├── exper/\n",
        "|   |\t|   # experimental dataset for training (.xlsx|.csv files)\n",
        "|   |   └── example-experimental_data.xlsx\n",
        "|   ├── nonexp/\n",
        "|   |\t|   # negative samples for training (.xlsx|.csv files)\n",
        "|   |   └── example-negative_data.xlsx\n",
        "|   └── test/\n",
        "|       ├── ab_to_pred/\n",
        "|       |   |   # the antibody data for inference\n",
        "|       |   └── example-antibody_to_predict.xlsx\n",
        "|       ├── ag_to_pred/\n",
        "|       |   |     # the antigen data for inference\n",
        "|       |   └── example-antigen_to_predict.xlsx\n",
        "|       └── results/\n",
        "|           |    # the files to print the inference results\n",
        "|           └── results_rbd_[$model_name]-[$model_num].xlsx\n",
        "└── models/[$data_name]/\n",
        "    └── [$data_name]-[$model_name]/\n",
        "        |   # the files of model parameters (.tf.index and .tf.data-000000-of-00001 files)\n",
        "        ├── model_rbd_[$model_num].tf.index\n",
        "        └── model_rbd_[$model_num].tf.data-000000-of-00001\n",
        "```\n",
        "> Default data can be also downloaded from [Data_S1](https://static-content.springer.com/esm/art%3A10.1038%2Fs41422-022-00727-6/MediaObjects/41422_2022_727_MOESM2_ESM.xlsx) (unnecessary in usage)\n"
      ],
      "metadata": {
        "id": "muTruGCpicYL"
      }
    },
    {
      "cell_type": "markdown",
      "source": [
        "### 2.1. Training (optional)\n",
        "1. Upload the experimental data in ```XBCR-net/data/$data_name/exper/``` and the non-experimental data in ```XBCR-net/data/$data_name/nonexp/```\n",
        "\n",
        "2. Run\n",
        "```!python main_train.py --model_name XBCR_net --data_name $data_name --model_num $model_num --max_epochs max_epochs --include_light [1/0]```\n",
        "\n",
        "3. Check the saved model in ```XBCR-net/models/$data_name/$data_name-XBCR_net/```"
      ],
      "metadata": {
        "id": "ECD58BA9iV2z"
      }
    },
    {
      "cell_type": "markdown",
      "source": [
        "<div align=\"center\">\n",
        "\n",
        "| Argument              | Description                                \t|\n",
        "| --------------------- | ----------------------------------------------|\n",
        "| `--data_name` \t| The data folder name                       \t|\n",
        "| `--model_name`        | The used model                      \t     \t|\n",
        "| `--model_num`         | The index number of trained model          \t|\n",
        "| `--max_epochs`        | The max epoch number for training \t     \t|\n",
        "| `--include_light`     | 1/0: include/exclude input of a light chain\t|\n",
        "\n",
        "</div>"
      ],
      "metadata": {
        "id": "6AXf_gouKMVk"
      }
    },
    {
      "cell_type": "code",
      "source": [
        "#@markdown \\* Example for training (optional):\n",
        "\n",
        "model_name = 'XBCR_net' #@param {type:\"string\"}\n",
        "data_name = 'binding' #@param {type:\"string\"}\n",
        "model_num = 0     #@param {type:\"integer\"}\n",
        "max_epochs = 100   #@param {type:\"integer\"}\n",
        "include_light = 1     #@param [0,1]\n",
        "\n",
        "!python main_train.py --model_name {model_name} --data_name {data_name} --model_num {model_num} --max_epochs {max_epochs} --include_light {include_light}\n",
        "\n",
        "#@markdown > This training process is optional as the trained model has been provided."
      ],
      "metadata": {
        "id": "gUvY0DiSi-RD",
        "cellView": "form"
      },
      "execution_count": null,
      "outputs": []
    },
    {
      "cell_type": "markdown",
      "source": [
        "### 2.2a. Inference by entering data ###"
      ],
      "metadata": {
        "id": "s5JFReKFDyPg"
      }
    },
    {
      "cell_type": "code",
      "source": [
        "#@markdown \\* Example for a single data point:\n",
        "\n",
        "HEAVY='VQLVESGGGLVQPGGSLRLSCAASGFTFSSYDMHWVRQTTGKGLEWVSTIGTAGDTYYPDSVKGRFTISREDAKNSLYLQMNSLRAGDTAVYYCARGDSSGYYYYFDYWGQGTLLTVSS' #@param {type:\"string\"}\n",
        "LIGHT='DIEMTQSPSSLSAAVGDRVTITCRASQSIGSYLNWYQQKPGKAPKLLIYAASSLQSGVPSRFSGSGSGTDFTLTISSLQPEDFAIYYCQQSYVSPTYTFGPGTKVDIK'      #@param {type:\"string\"}\n",
        "ANTIG='RVQPTESIVRFPNITNLCPFGEVFNATRFASVYAWNRKRISNCVADYSVLYNSASFSTFKCYGVSPTKLNDLCFTNVYADSFVIRGDEVRQIAPGQTGKIADYNYKLPDDFTGCVIAWNSNNLDSKVGGNYNYLYRLFRKSNLKPFERDISTEIYQAGSTPCNGVEGFNCYFPLQSYGFQPTNGVGYQPYRVVVLSFELLHAPATVCGPKKSTNLVKNKCVNF' #@param {type:\"string\"}\n",
        "\n",
        "!python pred_bcr.py --heavy $HEAVY --light $LIGHT --antig $ANTIG --model_name XBCR_net --data_name binding --model_num 0\n"
      ],
      "metadata": {
        "id": "Av3PcKSNFMxv",
        "cellView": "form"
      },
      "execution_count": null,
      "outputs": []
    },
    {
      "cell_type": "code",
      "source": [
        "#@markdown \\* Example for multiple data points (split by ','):\n",
        "\n",
        "HEAVY='VQLVESGGGLVQPGGSLRLSCAASGFTFSSYDMHWVRQTTGKGLEWVSTIGTAGDTYYPDSVKGRFTISREDAKNSLYLQMNSLRAGDTAVYYCARGDSSGYYYYFDYWGQGTLLTVSS,EVQLVESGGGLVQPGGSLRLSCAASGFTFNNYWMSWVRQAPGKGLEWVANINQDGSEKYYVDSVMGRFAISRDNAKNSLYLQMNSLRAEDTAVYYCARDQGYGDYFEYNWFDPWGQGTLVTVSS' #@param {type:\"string\"}\n",
        "LIGHT='DIEMTQSPSSLSAAVGDRVTITCRASQSIGSYLNWYQQKPGKAPKLLIYAASSLQSGVPSRFSGSGSGTDFTLTISSLQPEDFAIYYCQQSYVSPTYTFGPGTKVDIK,DIQLTQSPSFLSASVGDRVTITCRASQGIYSYLAWYQQKPGKAPKLLIYAASTLQSGVPSRFSGSGSGTEFTLTISSLQPEDFATYYCQQLNSYPITFGQGTRLEIK' #@param {type:\"string\"}\n",
        "ANTIG='RVQPTESIVRFPNITNLCPFGEVFNATRFASVYAWNRKRISNCVADYSVLYNSASFSTFKCYGVSPTKLNDLCFTNVYADSFVIRGDEVRQIAPGQTGKIADYNYKLPDDFTGCVIAWNSNNLDSKVGGNYNYLYRLFRKSNLKPFERDISTEIYQAGSTPCNGVEGFNCYFPLQSYGFQPTNGVGYQPYRVVVLSFELLHAPATVCGPKKSTNLVKNKCVNF,RVQPTESIVRFPNITNLCPFGEVFNATRFASVYAWNRKRISNCVADYSVLYNSASFSTFKCYGVSPTKLNDLCFTNVYADSFVIRGDEVRQIAPGQTGKIADYNYKLPDDFTGCVIAWNSNNLDSKVGGNYNYLYRLFRKSNLKPFERDISTEIYQAGSTPCNGVEGFNCYFPLQSYGFQPTNGVGYQPYRVVVLSFELLHAPATVCGPKKSTNLVKNKCVNF' #@param {type:\"string\"}\n",
        "\n",
        "#@markdown > Spaces (' ' or '_') and carriage returns ('\\n') do not affect data recognition\n",
        "\n",
        "!python pred_bcr.py --heavy $HEAVY --light $LIGHT --antig $ANTIG --model_name XBCR_net --data_name binding --model_num 0\n"
      ],
      "metadata": {
        "id": "81B8HEw_Jmia",
        "cellView": "form"
      },
      "execution_count": null,
      "outputs": []
    },
    {
      "cell_type": "markdown",
      "source": [
        "<div align=\"center\">\n",
        "\n",
        "| Argument              | Description                                \t|\n",
        "| --------------------- | ----------------------------------------------|\n",
        "| `--heavy` \t\t| The heavy chain           \t\t\t|\n",
        "| `--light` \t\t| The light chain                       \t|\n",
        "| `--antig` \t\t| The antigen                       \t\t|\n",
        "| `--data_name` \t| The data folder name                       \t|\n",
        "| `--data_name` \t| The data folder name                       \t|\n",
        "| `--model_name`        | The used model                      \t     \t|\n",
        "| `--model_num`         | The index number of the used model         \t|\n",
        "\n",
        "</div>"
      ],
      "metadata": {
        "id": "aZxiiV4PPNZN"
      }
    },
    {
      "cell_type": "markdown",
      "source": [
        "### 2.2b. Batch Inference ###\n",
        "1. Upload the antibody file in ```XBCR-net/data/$data_name/ab_to_pred/``` and the antibody file in ```XBCR-net/data/$data_name/ag_to_pred/```\n",
        "\n",
        "2. Run\n",
        "```!python main_infer.py --model_name XBCR_net --data_name $data_name --model_num $model_num --include_light [1/0]```\n",
        "\n",
        "3. Download the result excel file from ```XBCR-net/data/binding/test/results/*```"
      ],
      "metadata": {
        "id": "3Ulgx0aRlNv2"
      }
    },
    {
      "cell_type": "markdown",
      "source": [
        "<div align=\"center\">\n",
        "\n",
        "| Argument              | Description                                \t|\n",
        "| --------------------- | ----------------------------------------------|\n",
        "| `--data_name` \t| The data folder name                       \t|\n",
        "| `--model_name`        | The used model                      \t     \t|\n",
        "| `--model_num`         | The index number of trained model          \t|\n",
        "| `--include_light`     | 1/0: include/exclude input of a light chain\t|\n",
        "\n",
        "</div>"
      ],
      "metadata": {
        "id": "nxT72MGePXUp"
      }
    },
    {
      "cell_type": "code",
      "source": [
        "#@markdown \\* Example for batch inference:\n",
        "\n",
        "model_name = 'XBCR_net' #@param {type:\"string\"}\n",
        "data_name = 'binding' #@param {type:\"string\"}\n",
        "model_num = 0     #@param {type:\"integer\"}\n",
        "include_light = 1     #@param [0,1]\n",
        "\n",
        "!python main_infer.py --model_name {model_name} --data_name {data_name} --model_num {model_num} --include_light {include_light}\n"
      ],
      "metadata": {
        "id": "xwcnHsPblZae",
        "cellView": "form"
      },
      "execution_count": null,
      "outputs": []
    },
    {
      "cell_type": "code",
      "source": [
        "#@markdown \\* Download the result file.\n",
        "\n",
        "from google.colab import files\n",
        "import os\n",
        "download_path = os.path.join('data',data_name,'test','results','results_rbd_'+model_name+'-'+str(model_num)+'.xlsx')\n",
        "files.download(download_path)\n",
        "print('Download the file: '+download_path)"
      ],
      "metadata": {
        "cellView": "form",
        "id": "Wdxp4hKk3kro"
      },
      "execution_count": null,
      "outputs": []
    },
    {
      "cell_type": "markdown",
      "source": [
        "## 3. Citing this work\n",
        "\n",
        "Any publication that discloses findings arising from using this source code or the network model should cite\n",
        "- Hantao Lou, Jianqing Zheng, Xiaohang Leo Fang, Zhu Liang, Meihan Zhang, Yu Chen, Chunmei Wang, Xuetao Cao, \"Deep learning-based rapid generation of broadly reactive antibodies against SARS-CoV-2 and its Omicron variant.\" *Cell Research* 33.1 (2023): 80-82.\n",
        "\n",
        "```bibtex\n",
        "@article{lou2022deep,\n",
        "  title={Deep learning-based rapid generation of broadly reactive antibodies against SARS-CoV-2 and its Omicron variant},\n",
        "  author={Lou, Hantao and Zheng, Jianqing and Fang, Xiaohang Leo and Liang, Zhu and Zhang, Meihan and Chen, Yu and Wang, Chunmei and Cao, Xuetao},\n",
        "  journal={Cell Research},\n",
        "  pages={1--3},\n",
        "  year={2022},\n",
        "  publisher={Nature Publishing Group},\n",
        "  doi={10.1038/s41422-022-00727-6},\n",
        "}\n",
        "```\n",
        "and, if applicable, the [ACNN paper](https://ieeexplore.ieee.org/abstract/document/9197328):\n",
        "- Xiao-Yun Zhou, Jian-Qing Zheng, Peichao Li, and Guang-Zhong Yang, \"ACNN: a full resolution dcnn for medical image segmentation.\" *2020 IEEE International Conference on Robotics and Automation (ICRA)*. IEEE, 2020.\n",
        "\n",
        "```bibtex\n",
        "@inproceedings{zhou2020acnn,\n",
        "  title={Acnn: a full resolution dcnn for medical image segmentation},\n",
        "  author={Zhou, Xiao-Yun and Zheng, Jian-Qing and Li, Peichao and Yang, Guang-Zhong},\n",
        "  booktitle={2020 IEEE International Conference on Robotics and Automation (ICRA)},\n",
        "  pages={8455--8461},\n",
        "  year={2020},\n",
        "  organization={IEEE},\n",
        "  doi={10.1109/ICRA40945.2020.9197328},\n",
        "}\n",
        "```"
      ],
      "metadata": {
        "id": "Dg0PMCfSwcXx"
      }
    }
  ]
}