{
  "nbformat": 4,
  "nbformat_minor": 0,
  "metadata": {
    "colab": {
      "provenance": [],
      "authorship_tag": "ABX9TyMxm6JDFEMeB35EniOvPsML",
      "include_colab_link": true
    },
    "kernelspec": {
      "name": "python3",
      "display_name": "Python 3"
    },
    "language_info": {
      "name": "python"
    }
  },
  "cells": [
    {
      "cell_type": "markdown",
      "metadata": {
        "id": "view-in-github",
        "colab_type": "text"
      },
      "source": [
        "<a href=\"https://colab.research.google.com/github/jianqingzheng/XBCR-net/blob/main/XBCR_net.ipynb\" target=\"_parent\"><img src=\"https://colab.research.google.com/assets/colab-badge.svg\" alt=\"Open In Colab\"/></a>"
      ]
    },
    {
      "cell_type": "markdown",
      "source": [],
      "metadata": {
        "id": "9bmX7eoUfx3g"
      }
    },
    {
      "cell_type": "markdown",
      "source": [
        "# Impelementation for \"XBCR-net (Cross B-Cell Receptor network) for antibody-antigen binding prediction\"\n",
        "\n",
        "[![DOI](https://img.shields.io/badge/DOI-10.1038%2Fs41422--022--00727--6-darkyellow)](https://www.nature.com/articles/s41422-022-00727-6)\n",
        "\n",
        "Code for *Cell Research* paper [Deep learning-based rapid generation of broadly reactive antibodies against SARS-CoV-2 and its Omicron variant](https://doi.org/10.1038/s41422-022-00727-6)\n",
        "\n",
        "Source code from Github repo [XBCR-net (Cross B-Cell Receptor network) for antibody-antigen binding prediction](https://github.com/jianqingzheng/XBCR-net.git)"
      ],
      "metadata": {
        "id": "b6wz3wqFgL7b"
      }
    },
    {
      "cell_type": "markdown",
      "source": [
        "## Download repository from Github\n",
        "Clone code from Github repo: https://github.com/jianqingzheng/XBCR-net.git\n"
      ],
      "metadata": {
        "id": "Olj25o3Kfze6"
      }
    },
    {
      "cell_type": "code",
      "execution_count": 7,
      "metadata": {
        "colab": {
          "base_uri": "https://localhost:8080/"
        },
        "id": "hO4x9NDrfGrm",
        "outputId": "9fafe157-b0ec-438e-d556-8a759640fd7c"
      },
      "outputs": [
        {
          "output_type": "stream",
          "name": "stdout",
          "text": [
            "fatal: destination path 'XBCR-net' already exists and is not an empty directory.\n",
            "/content/XBCR-net\n"
          ]
        }
      ],
      "source": [
        "!git clone https://github.com/jianqingzheng/XBCR-net.git\n",
        "%cd XBCR-net/"
      ]
    },
    {
      "cell_type": "markdown",
      "source": [
        "## Usage\n"
      ],
      "metadata": {
        "id": "muTruGCpicYL"
      }
    },
    {
      "cell_type": "markdown",
      "source": [
        "### Install Packages"
      ],
      "metadata": {
        "id": "qB4f6GvEjOOm"
      }
    },
    {
      "cell_type": "code",
      "source": [
        "!pip install"
      ],
      "metadata": {
        "id": "ttZEUIWvjSbj"
      },
      "execution_count": null,
      "outputs": []
    },
    {
      "cell_type": "markdown",
      "source": [
        "### Training (optional)"
      ],
      "metadata": {
        "id": "ECD58BA9iV2z"
      }
    },
    {
      "cell_type": "code",
      "source": [
        "!python main_train.py --model_name XBCR_net --data_name binding --model_num 0 --max_epochs 100 --include_light 1"
      ],
      "metadata": {
        "colab": {
          "base_uri": "https://localhost:8080/"
        },
        "id": "gUvY0DiSi-RD",
        "outputId": "118ea31d-33d9-43e1-fdcb-ac7408669e3d"
      },
      "execution_count": 8,
      "outputs": [
        {
          "output_type": "stream",
          "name": "stdout",
          "text": [
            "2023-09-04 00:16:51.841934: I tensorflow/core/platform/cpu_feature_guard.cc:182] This TensorFlow binary is optimized to use available CPU instructions in performance-critical operations.\n",
            "To enable the following instructions: AVX2 FMA, in other operations, rebuild TensorFlow with the appropriate compiler flags.\n",
            "2023-09-04 00:16:52.826329: W tensorflow/compiler/tf2tensorrt/utils/py_utils.cc:38] TF-TRT Warning: Could not find TensorRT\n",
            "WARNING:tensorflow:From /usr/local/lib/python3.10/dist-packages/tensorflow/python/compat/v2_compat.py:107: disable_resource_variables (from tensorflow.python.ops.variable_scope) is deprecated and will be removed in a future version.\n",
            "Instructions for updating:\n",
            "non-resource variables are not supported in the long term\n",
            "/content/XBCR-net\n",
            "model: ./models/binding/binding-XBCR_net/model   data: ./data/binding\n",
            "/content/XBCR-net/data/binding\n",
            "Traceback (most recent call last):\n",
            "\n",
            "^C\n"
          ]
        }
      ]
    }
  ]
}