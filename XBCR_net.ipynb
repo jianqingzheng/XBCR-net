{
  "nbformat": 4,
  "nbformat_minor": 0,
  "metadata": {
    "colab": {
      "provenance": [],
      "authorship_tag": "ABX9TyOpL4v5806bXuG17KW/F5+H"
    },
    "kernelspec": {
      "name": "python3",
      "display_name": "Python 3"
    },
    "language_info": {
      "name": "python"
    }
  },
  "cells": [
    {
      "cell_type": "markdown",
      "source": [
        "# XBCR-net (Cross B-Cell Receptor network) for antibody-antigen binding prediction\n",
        "\n",
        "[![DOI](https://img.shields.io/badge/DOI-10.1038%2Fs41422--022--00727--6-darkyellow)](https://www.nature.com/articles/s41422-022-00727-6)\n",
        "|\n",
        "<a href=\"https://github.com/jianqingzheng/XBCR-net\"><img src=\"https://img.shields.io/github/stars/jianqingzheng/XBCR-net?style=social&label=Code+★\" /></a>\n",
        "\n",
        "Code for *Cell Research* paper [Deep learning-based rapid generation of broadly reactive antibodies against SARS-CoV-2 and its Omicron variant](https://doi.org/10.1038/s41422-022-00727-6)\n",
        "\n",
        "This implementation includes the training and inference pipeline of XBCR-net based on tensorflow and Keras. The original implementation of its backbone network ACNN could be found in [ACNN repo](https://github.com/XiaoYunZhou27/ACNN).\n"
      ],
      "metadata": {
        "id": "b6wz3wqFgL7b"
      }
    },
    {
      "cell_type": "markdown",
      "source": [
        "## Installation\n",
        "Clone code from Github repo: https://github.com/jianqingzheng/XBCR-net.git\n"
      ],
      "metadata": {
        "id": "Olj25o3Kfze6"
      }
    },
    {
      "cell_type": "code",
      "execution_count": null,
      "metadata": {
        "id": "hO4x9NDrfGrm"
      },
      "outputs": [],
      "source": [
        "!git clone https://github.com/jianqingzheng/XBCR-net.git\n",
        "%cd XBCR-net/"
      ]
    },
    {
      "cell_type": "markdown",
      "source": [
        "Install packages\n",
        "\n",
        "[![OS](https://img.shields.io/badge/OS-Windows%7CLinux-darkblue)]()\n",
        "[![PyPI pyversions](https://img.shields.io/badge/Python-3.8-blue)](https://pypi.python.org/pypi/ansicolortags/)\n",
        "[![TensorFlow](https://img.shields.io/badge/TensorFlow-2.4.1-lightblue)](www.tensorflow.org)\n",
        "[![Numpy](https://img.shields.io/badge/Numpy-1.19.5-lightblue)](https://numpy.org)\n",
        "[![Pandas](https://img.shields.io/badge/Pandas-1.1.0-lightblue)](https://pandas.pydata.org/)\n"
      ],
      "metadata": {
        "id": "WnrGg8jlpHSl"
      }
    },
    {
      "cell_type": "code",
      "source": [
        "!pip install tensorflow==2.4.1\n",
        "!pip install numpy==1.19.5\n",
        "!pip install pandas==1.1.0"
      ],
      "metadata": {
        "id": "RKZZ7ELOltPz"
      },
      "execution_count": null,
      "outputs": []
    },
    {
      "cell_type": "markdown",
      "source": [
        "## Usage"
      ],
      "metadata": {
        "id": "muTruGCpicYL"
      }
    },
    {
      "cell_type": "markdown",
      "source": [
        "### Training (optional)\n",
        "1. Upload the experimental data in ```XBCR-net/data/$data_name/exper/``` and the non-experimental data in ```XBCR-net/data/$data_name/nonexp/```\n",
        "\n",
        "2. Run ```!python main_train.py --model_name XBCR_net --data_name $data_name --model_num $model_num --max_epochs max_epochs --include_light [1/0]```\n",
        "\n",
        "3. Check the saved model in ```XBCR-net/models/$data_name/$data_name-XBCR_net/```"
      ],
      "metadata": {
        "id": "ECD58BA9iV2z"
      }
    },
    {
      "cell_type": "markdown",
      "source": [
        "#### - Example:\n",
        "1. Check the experimental data in ```XBCR-net/data/$data_name/exper/``` and the non-experimental data in ```XBCR-net/data/$data_name/nonexp/```\n",
        "\n",
        "2. Run"
      ],
      "metadata": {
        "id": "M13mIMBpqA_6"
      }
    },
    {
      "cell_type": "code",
      "source": [
        "!python main_train.py --model_name XBCR_net --data_name binding --model_num 0 --max_epochs 100 --include_light 1"
      ],
      "metadata": {
        "id": "gUvY0DiSi-RD"
      },
      "execution_count": null,
      "outputs": []
    },
    {
      "cell_type": "markdown",
      "source": [
        "3. Check the saved model in ```XBCR-net/models/$data_name/$data_name-XBCR_net/```"
      ],
      "metadata": {
        "id": "y_frWN-jq2KR"
      }
    },
    {
      "cell_type": "markdown",
      "source": [
        "### Inference by entering data ###\n",
        "- Example for a single data point:"
      ],
      "metadata": {
        "id": "s5JFReKFDyPg"
      }
    },
    {
      "cell_type": "code",
      "source": [
        "HEAVY='VQLVESGGGLVQPGGSLRLSCAASGFTFSSYDMHWVRQTTGKGLEWVSTIGTAGDTYYPDSVKGRFTISREDAKNSLYLQMNSLRAGDTAVYYCARGDSSGYYYYFDYWGQGTLLTVSS'\n",
        "LIGHT='DIEMTQSPSSLSAAVGDRVTITCRASQSIGSYLNWYQQKPGKAPKLLIYAASSLQSGVPSRFSGSGSGTDFTLTISSLQPEDFAIYYCQQSYVSPTYTFGPGTKVDIK'\n",
        "ANTIG='RVQPTESIVRFPNITNLCPFGEVFNATRFASVYAWNRKRISNCVADYSVLYNSASFSTFKCYGVSPTKLNDLCFTNVYADSFVIRGDEVRQIAPGQTGKIADYNYKLPDDFTGCVIAWNSNNLDSKVGGNYNYLYRLFRKSNLKPFERDISTEIYQAGSTPCNGVEGFNCYFPLQSYGFQPTNGVGYQPYRVVVLSFELLHAPATVCGPKKSTNLVKNKCVNF'\n",
        "\n",
        "!python pred_bcr.py --heavy $HEAVY --light $LIGHT --antig $ANTIG --model_name XBCR_net --data_name binding --model_num 0 --include_light 1\n"
      ],
      "metadata": {
        "colab": {
          "base_uri": "https://localhost:8080/"
        },
        "id": "Av3PcKSNFMxv",
        "outputId": "c7a5da9c-3307-492e-e4ba-a75d7a81d0b2"
      },
      "execution_count": 23,
      "outputs": [
        {
          "output_type": "stream",
          "name": "stdout",
          "text": [
            "2023-09-04 03:13:21.718444: I tensorflow/core/platform/cpu_feature_guard.cc:182] This TensorFlow binary is optimized to use available CPU instructions in performance-critical operations.\n",
            "To enable the following instructions: AVX2 FMA, in other operations, rebuild TensorFlow with the appropriate compiler flags.\n",
            "2023-09-04 03:13:22.886690: W tensorflow/compiler/tf2tensorrt/utils/py_utils.cc:38] TF-TRT Warning: Could not find TensorRT\n",
            "WARNING:tensorflow:From /usr/local/lib/python3.10/dist-packages/tensorflow/python/compat/v2_compat.py:107: disable_resource_variables (from tensorflow.python.ops.variable_scope) is deprecated and will be removed in a future version.\n",
            "Instructions for updating:\n",
            "non-resource variables are not supported in the long term\n",
            "2023-09-04 03:13:28.747137: I tensorflow/compiler/mlir/mlir_graph_optimization_pass.cc:353] MLIR V1 optimization pass is not enabled\n",
            "2023-09-04 03:13:28.927718: W tensorflow/c/c_api.cc:300] Operation '{name:'conv1d_76/bias/Assign' id:5144 op device:{requested: '', assigned: ''} def:{{{node conv1d_76/bias/Assign}} = AssignVariableOp[_has_manual_control_dependencies=true, dtype=DT_FLOAT, validate_shape=false](conv1d_76/bias, conv1d_76/bias/Initializer/zeros)}}' was changed by setting attribute after it was run by a session. This mutation will have no effect, and will trigger an error in the future. Either don't modify nodes after running them or create a new session.\n",
            "id:  0\n",
            "heavy:  VQLVESGGGLVQPGGSLRLSCAASGFTFSSYDMHWVRQTTGKGLEWVSTIGTAGDTYYPDSVKGRFTISREDAKNSLYLQMNSLRAGDTAVYYCARGDSSGYYYYFDYWGQGTLLTVSS\n",
            "light:  DIEMTQSPSSLSAAVGDRVTITCRASQSIGSYLNWYQQKPGKAPKLLIYAASSLQSGVPSRFSGSGSGTDFTLTISSLQPEDFAIYYCQQSYVSPTYTFGPGTKVDIK\n",
            "antig:  RVQPTESIVRFPNITNLCPFGEVFNATRFASVYAWNRKRISNCVADYSVLYNSASFSTFKCYGVSPTKLNDLCFTNVYADSFVIRGDEVRQIAPGQTGKIADYNYKLPDDFTGCVIAWNSNNLDSKVGGNYNYLYRLFRKSNLKPFERDISTEIYQAGSTPCNGVEGFNCYFPLQSYGFQPTNGVGYQPYRVVVLSFELLHAPATVCGPKKSTNLVKNKCVNF\n",
            "score:  0.9999998\n"
          ]
        }
      ]
    },
    {
      "cell_type": "markdown",
      "source": [
        "- Example for multiple data points (split by ','):"
      ],
      "metadata": {
        "id": "afkrMQcrL2Ve"
      }
    },
    {
      "cell_type": "code",
      "source": [
        "HEAVY='VQLVESGGGLVQPGGSLRLSCAASGFTFSSYDMHWVRQTTGKGLEWVSTIGTAGDTYYPDSVKGRFTISREDAKNSLYLQMNSLRAGDTAVYYCARGDSSGYYYYFDYWGQGTLLTVSS,EVQLVESGGGLVQPGGSLRLSCAASGFTFNNYWMSWVRQAPGKGLEWVANINQDGSEKYYVDSVMGRFAISRDNAKNSLYLQMNSLRAEDTAVYYCARDQGYGDYFEYNWFDPWGQGTLVTVSS'\n",
        "LIGHT='DIEMTQSPSSLSAAVGDRVTITCRASQSIGSYLNWYQQKPGKAPKLLIYAASSLQSGVPSRFSGSGSGTDFTLTISSLQPEDFAIYYCQQSYVSPTYTFGPGTKVDIK,DIQLTQSPSFLSASVGDRVTITCRASQGIYSYLAWYQQKPGKAPKLLIYAASTLQSGVPSRFSGSGSGTEFTLTISSLQPEDFATYYCQQLNSYPITFGQGTRLEIK'\n",
        "ANTIG='RVQPTESIVRFPNITNLCPFGEVFNATRFASVYAWNRKRISNCVADYSVLYNSASFSTFKCYGVSPTKLNDLCFTNVYADSFVIRGDEVRQIAPGQTGKIADYNYKLPDDFTGCVIAWNSNNLDSKVGGNYNYLYRLFRKSNLKPFERDISTEIYQAGSTPCNGVEGFNCYFPLQSYGFQPTNGVGYQPYRVVVLSFELLHAPATVCGPKKSTNLVKNKCVNF,RVQPTESIVRFPNITNLCPFGEVFNATRFASVYAWNRKRISNCVADYSVLYNSASFSTFKCYGVSPTKLNDLCFTNVYADSFVIRGDEVRQIAPGQTGKIADYNYKLPDDFTGCVIAWNSNNLDSKVGGNYNYLYRLFRKSNLKPFERDISTEIYQAGSTPCNGVEGFNCYFPLQSYGFQPTNGVGYQPYRVVVLSFELLHAPATVCGPKKSTNLVKNKCVNF'\n",
        "\n",
        "!python pred_bcr.py --heavy $HEAVY --light $LIGHT --antig $ANTIG --model_name XBCR_net --data_name binding --model_num 0 --include_light 1\n"
      ],
      "metadata": {
        "colab": {
          "base_uri": "https://localhost:8080/"
        },
        "id": "81B8HEw_Jmia",
        "outputId": "3e6a065b-6ff7-482d-f9c9-b60c010acd02"
      },
      "execution_count": 22,
      "outputs": [
        {
          "output_type": "stream",
          "name": "stdout",
          "text": [
            "2023-09-04 03:12:17.573340: I tensorflow/core/platform/cpu_feature_guard.cc:182] This TensorFlow binary is optimized to use available CPU instructions in performance-critical operations.\n",
            "To enable the following instructions: AVX2 FMA, in other operations, rebuild TensorFlow with the appropriate compiler flags.\n",
            "2023-09-04 03:12:18.891618: W tensorflow/compiler/tf2tensorrt/utils/py_utils.cc:38] TF-TRT Warning: Could not find TensorRT\n",
            "WARNING:tensorflow:From /usr/local/lib/python3.10/dist-packages/tensorflow/python/compat/v2_compat.py:107: disable_resource_variables (from tensorflow.python.ops.variable_scope) is deprecated and will be removed in a future version.\n",
            "Instructions for updating:\n",
            "non-resource variables are not supported in the long term\n",
            "2023-09-04 03:12:25.497433: I tensorflow/compiler/mlir/mlir_graph_optimization_pass.cc:353] MLIR V1 optimization pass is not enabled\n",
            "2023-09-04 03:12:25.671421: W tensorflow/c/c_api.cc:300] Operation '{name:'conv1d_68/bias/Assign' id:4662 op device:{requested: '', assigned: ''} def:{{{node conv1d_68/bias/Assign}} = AssignVariableOp[_has_manual_control_dependencies=true, dtype=DT_FLOAT, validate_shape=false](conv1d_68/bias, conv1d_68/bias/Initializer/zeros)}}' was changed by setting attribute after it was run by a session. This mutation will have no effect, and will trigger an error in the future. Either don't modify nodes after running them or create a new session.\n",
            "id:  0\n",
            "heavy:  VQLVESGGGLVQPGGSLRLSCAASGFTFSSYDMHWVRQTTGKGLEWVSTIGTAGDTYYPDSVKGRFTISREDAKNSLYLQMNSLRAGDTAVYYCARGDSSGYYYYFDYWGQGTLLTVSS\n",
            "light:  DIEMTQSPSSLSAAVGDRVTITCRASQSIGSYLNWYQQKPGKAPKLLIYAASSLQSGVPSRFSGSGSGTDFTLTISSLQPEDFAIYYCQQSYVSPTYTFGPGTKVDIK\n",
            "antig:  RVQPTESIVRFPNITNLCPFGEVFNATRFASVYAWNRKRISNCVADYSVLYNSASFSTFKCYGVSPTKLNDLCFTNVYADSFVIRGDEVRQIAPGQTGKIADYNYKLPDDFTGCVIAWNSNNLDSKVGGNYNYLYRLFRKSNLKPFERDISTEIYQAGSTPCNGVEGFNCYFPLQSYGFQPTNGVGYQPYRVVVLSFELLHAPATVCGPKKSTNLVKNKCVNF\n",
            "score:  0.9999998\n",
            "id:  1\n",
            "heavy:  EVQLVESGGGLVQPGGSLRLSCAASGFTFNNYWMSWVRQAPGKGLEWVANINQDGSEKYYVDSVMGRFAISRDNAKNSLYLQMNSLRAEDTAVYYCARDQGYGDYFEYNWFDPWGQGTLVTVSS\n",
            "light:  DIQLTQSPSFLSASVGDRVTITCRASQGIYSYLAWYQQKPGKAPKLLIYAASTLQSGVPSRFSGSGSGTEFTLTISSLQPEDFATYYCQQLNSYPITFGQGTRLEIK\n",
            "antig:  RVQPTESIVRFPNITNLCPFGEVFNATRFASVYAWNRKRISNCVADYSVLYNSASFSTFKCYGVSPTKLNDLCFTNVYADSFVIRGDEVRQIAPGQTGKIADYNYKLPDDFTGCVIAWNSNNLDSKVGGNYNYLYRLFRKSNLKPFERDISTEIYQAGSTPCNGVEGFNCYFPLQSYGFQPTNGVGYQPYRVVVLSFELLHAPATVCGPKKSTNLVKNKCVNF\n",
            "score:  0.06194322\n"
          ]
        }
      ]
    },
    {
      "cell_type": "markdown",
      "source": [
        "### Batch Inference\n",
        "1. Upload the antibody file in ```XBCR-net/data/$data_name/ab_to_pred/``` and the antibody file in ```XBCR-net/data/$data_name/ag_to_pred/```\n",
        "\n",
        "2. Run ```!python main_infer.py --model_name XBCR_net --data_name $data_name --model_num $model_num --include_light [1/0]```\n",
        "\n",
        "3. Download the result excel file from ```XBCR-net/data/binding/test/results/*```"
      ],
      "metadata": {
        "id": "3Ulgx0aRlNv2"
      }
    },
    {
      "cell_type": "markdown",
      "source": [
        "#### - Example:\n",
        "1. Check the antibody file in ```XBCR-net/data/$data_name/ab_to_pred/``` and the antibody file in ```XBCR-net/data/$data_name/ag_to_pred/```\n",
        "2. Run"
      ],
      "metadata": {
        "id": "4jMQ3ajGoLA2"
      }
    },
    {
      "cell_type": "code",
      "source": [
        "!python main_infer.py --model_name XBCR_net --data_name binding --model_num 0 --include_light 1"
      ],
      "metadata": {
        "id": "xwcnHsPblZae"
      },
      "execution_count": null,
      "outputs": []
    },
    {
      "cell_type": "markdown",
      "source": [
        "3. Download the result excel file from ```XBCR-net/data/binding/test/results/results_rbd_XBCR_net-0.xlsx```"
      ],
      "metadata": {
        "id": "CW8S63jUliMO"
      }
    },
    {
      "cell_type": "markdown",
      "source": [
        "## Citing this work\n",
        "\n",
        "Any publication that discloses findings arising from using this source code or the network model should cite\n",
        "```bibtex\n",
        "@article{lou2022deep,\n",
        "  title={Deep learning-based rapid generation of broadly reactive antibodies against SARS-CoV-2 and its Omicron variant},\n",
        "  author={Lou, Hantao and Zheng, Jianqing and Fang, Xiaohang Leo and Liang, Zhu and Zhang, Meihan and Chen, Yu and Wang, Chunmei and Cao, Xuetao},\n",
        "  journal={Cell Research},\n",
        "  pages={1--3},\n",
        "  year={2022},\n",
        "  publisher={Nature Publishing Group},\n",
        "  doi={10.1038/s41422-022-00727-6},\n",
        "}\n",
        "```\n",
        "and, if applicable, the [ACNN paper](https://ieeexplore.ieee.org/abstract/document/9197328):\n",
        "```bibtex\n",
        "@inproceedings{zhou2020acnn,\n",
        "  title={Acnn: a full resolution dcnn for medical image segmentation},\n",
        "  author={Zhou, Xiao-Yun and Zheng, Jian-Qing and Li, Peichao and Yang, Guang-Zhong},\n",
        "  booktitle={2020 IEEE International Conference on Robotics and Automation (ICRA)},\n",
        "  pages={8455--8461},\n",
        "  year={2020},\n",
        "  organization={IEEE},\n",
        "  doi={10.1109/ICRA40945.2020.9197328},\n",
        "}\n",
        "```"
      ],
      "metadata": {
        "id": "Dg0PMCfSwcXx"
      }
    }
  ]
}